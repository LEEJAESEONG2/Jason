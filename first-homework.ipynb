{
  "nbformat": 4,
  "nbformat_minor": 0,
  "metadata": {
    "colab": {
      "name": "Untitled0.ipynb",
      "provenance": [],
      "authorship_tag": "ABX9TyMQKuHnVYUbTR5Q08i47Axq",
      "include_colab_link": true
    },
    "kernelspec": {
      "name": "python3",
      "display_name": "Python 3"
    }
  },
  "cells": [
    {
      "cell_type": "markdown",
      "metadata": {
        "id": "view-in-github",
        "colab_type": "text"
      },
      "source": [
        "<a href=\"https://colab.research.google.com/github/LEEJAESEONG2/Jason/blob/master/first-homework.ipynb\" target=\"_parent\"><img src=\"https://colab.research.google.com/assets/colab-badge.svg\" alt=\"Open In Colab\"/></a>"
      ]
    },
    {
      "cell_type": "markdown",
      "metadata": {
        "id": "4pt_2mO8hb4w",
        "colab_type": "text"
      },
      "source": [
        ""
      ]
    },
    {
      "cell_type": "code",
      "metadata": {
        "id": "u3oiXiCYhekl",
        "colab_type": "code",
        "colab": {}
      },
      "source": [
        "# This is Jason.\n",
        "\n",
        "# >> \n",
        "# >>> +둘\n",
        "# >>>> -셋\n",
        "# ***"
      ],
      "execution_count": 0,
      "outputs": []
    }
  ]
}